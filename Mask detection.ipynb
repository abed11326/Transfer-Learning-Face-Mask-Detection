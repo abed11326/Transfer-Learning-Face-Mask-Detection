{
 "cells": [
  {
   "cell_type": "markdown",
   "id": "6c6b6998",
   "metadata": {},
   "source": [
    "# **Face Mask Detection**"
   ]
  },
  {
   "cell_type": "markdown",
   "id": "89c61159",
   "metadata": {},
   "source": [
    "*This is a transfer learning real time face mask detection project. The project uses the face detector classifier from OpenCV and a pre-trained CNN deep learning model that detect whether a given face wears a mask or not. The model is trained and derived from: https://github.com/Karan-Malik/FaceMaskDetector. It is then applied with OpenCv on live images from webcam.*"
   ]
  },
  {
   "cell_type": "markdown",
   "id": "6dc860bf",
   "metadata": {},
   "source": [
    "## **Import Libraries**"
   ]
  },
  {
   "cell_type": "code",
   "execution_count": 7,
   "id": "6296431c",
   "metadata": {},
   "outputs": [],
   "source": [
    "import numpy as np\n",
    "from keras.models import load_model\n",
    "from keras.preprocessing import image as img\n",
    "import cv2\n",
    "import datetime"
   ]
  },
  {
   "cell_type": "markdown",
   "id": "ee90b042",
   "metadata": {},
   "source": [
    "## **Load the Model**"
   ]
  },
  {
   "cell_type": "code",
   "execution_count": 8,
   "id": "fd9829e4",
   "metadata": {},
   "outputs": [],
   "source": [
    "model = load_model('mymodel.h5') "
   ]
  },
  {
   "cell_type": "markdown",
   "id": "d29d7fa2",
   "metadata": {},
   "source": [
    "## **Real time detect**"
   ]
  },
  {
   "cell_type": "code",
   "execution_count": 6,
   "id": "f351f675",
   "metadata": {},
   "outputs": [],
   "source": [
    "cap = cv2.VideoCapture(0)\n",
    "faceCalssifier = cv2.CascadeClassifier('haarcascade_frontalface_default.xml') \n",
    "\n",
    "\n",
    "while True:\n",
    "    _ , image = cap.read()\n",
    "    faces = faceCalssifier.detectMultiScale(image, scaleFactor=1.1, minNeighbors=4)\n",
    "    \n",
    "    for(x,y,w,h) in faces:\n",
    "        face = image[y:y+h, x:x+w]\n",
    "        cv2.imwrite('temp.jpg',face)\n",
    "        \n",
    "        face = img.load_img('temp.jpg',target_size=(150,150,3))\n",
    "        face = img.img_to_array(face)\n",
    "        face = np.expand_dims(face,axis=0)\n",
    "        predection = model.predict(face)[0][0]\n",
    "        \n",
    "        if predection == 0: \n",
    "            cv2.rectangle(image,(x,y),(x+w,y+h),(0,255,0), 3)\n",
    "            cv2.putText(image,'MASK',((x+w)//2,y+h+20),cv2.FONT_HERSHEY_SIMPLEX,1,(0,255,0),3)\n",
    "        else: \n",
    "            cv2.rectangle(image,(x,y),(x+w,y+h),(0,0,255), 3)\n",
    "            cv2.putText(image,'NO MASK',((x+w)//2,y+h+20),cv2.FONT_HERSHEY_SIMPLEX,1,(0,0,255),3)\n",
    "          \n",
    "    cv2.imshow('Camera',image)\n",
    "    \n",
    "    if cv2.waitKey(10) == ord(' '):\n",
    "        break\n",
    "    \n",
    "cap.release()\n",
    "cv2.destroyAllWindows()"
   ]
  }
 ],
 "metadata": {
  "kernelspec": {
   "display_name": "Python 3 (ipykernel)",
   "language": "python",
   "name": "python3"
  },
  "language_info": {
   "codemirror_mode": {
    "name": "ipython",
    "version": 3
   },
   "file_extension": ".py",
   "mimetype": "text/x-python",
   "name": "python",
   "nbconvert_exporter": "python",
   "pygments_lexer": "ipython3",
   "version": "3.8.3"
  }
 },
 "nbformat": 4,
 "nbformat_minor": 5
}
